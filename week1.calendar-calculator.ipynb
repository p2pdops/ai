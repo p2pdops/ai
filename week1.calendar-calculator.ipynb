{
 "cells": [
  {
   "cell_type": "markdown",
   "metadata": {},
   "source": [
    "**WEEK-1**\n",
    "\n",
    "**1. (a). Generate a Calendar for the given month and year.**"
   ]
  },
  {
   "cell_type": "code",
   "execution_count": 1,
   "metadata": {},
   "outputs": [
    {
     "name": "stdout",
     "output_type": "stream",
     "text": [
      "    January 2022\n",
      "Mo Tu We Th Fr Sa Su\n",
      "                1  2\n",
      " 3  4  5  6  7  8  9\n",
      "10 11 12 13 14 15 16\n",
      "17 18 19 20 21 22 23\n",
      "24 25 26 27 28 29 30\n",
      "31\n",
      "\n"
     ]
    }
   ],
   "source": [
    "import calendar\n",
    "a= int(input(\"Input the year : \"))\n",
    "b= int(input(\"Input the month : \"))\n",
    "print(calendar.month(a,b))"
   ]
  },
  {
   "cell_type": "markdown",
   "metadata": {},
   "source": [
    "\n",
    "**1 (b). Implement a Simple Calculator program.**"
   ]
  },
  {
   "cell_type": "code",
   "execution_count": 2,
   "metadata": {},
   "outputs": [
    {
     "name": "stdout",
     "output_type": "stream",
     "text": [
      "Select the Operator\n",
      "1. Add\n",
      "2. Subtract\n",
      "3. Multiplication\n",
      "4. Quotient\n",
      "5. Modulo\n",
      "The sum is 5\n"
     ]
    }
   ],
   "source": [
    "a=int(input(\"Enter first number: \"))\n",
    "b=int(input(\"Enter second number: \"))\n",
    "print('Select the Operator')\n",
    "print('1. Add')\n",
    "print('2. Subtract')\n",
    "print('3. Multiplication')\n",
    "print('4. Quotient')\n",
    "print('5. Modulo')\n",
    "c=int(input(\"Enter operator: \"))\n",
    "if c==1:\n",
    "  print('The sum is',a+b)\n",
    "elif c==2:\n",
    "  print('The Difference is', a-b)\n",
    "elif c==3:\n",
    "  print('The Mulitplication is ',a*b)\n",
    "elif c==4:\n",
    "  print('The quotient is ',a//b)\n",
    "elif c==5:\n",
    "  print('The remainder is ', a%b)\n",
    "else:\n",
    "  print(\"Invalid Operator\")"
   ]
  },
  {
   "cell_type": "markdown",
   "metadata": {},
   "source": []
  }
 ],
 "metadata": {
  "interpreter": {
   "hash": "fbfc7f50675f1f7775e3693f35cf7d04e20d45d0496b8012dd14cb9f367bd69e"
  },
  "kernelspec": {
   "display_name": "Python 3.8.8 64-bit ('base': conda)",
   "language": "python",
   "name": "python3"
  },
  "language_info": {
   "codemirror_mode": {
    "name": "ipython",
    "version": 3
   },
   "file_extension": ".py",
   "mimetype": "text/x-python",
   "name": "python",
   "nbconvert_exporter": "python",
   "pygments_lexer": "ipython3",
   "version": "3.8.8"
  },
  "orig_nbformat": 4
 },
 "nbformat": 4,
 "nbformat_minor": 2
}
