{
 "cells": [
  {
   "cell_type": "markdown",
   "metadata": {},
   "source": [
    "**Week 4**\n",
    "\n",
    "Implement a* algorithm ."
   ]
  },
  {
   "cell_type": "code",
   "execution_count": 3,
   "metadata": {},
   "outputs": [
    {
     "name": "stdout",
     "output_type": "stream",
     "text": [
      "The shortest distance of  a  from the source vertex a is: 0\n",
      "The shortest distance of  b  from the source vertex a is: 3\n",
      "The shortest distance of  c  from the source vertex a is: 3.5\n",
      "The shortest distance of  d  from the source vertex a is: 4.5\n"
     ]
    }
   ],
   "source": [
    "import sys\n",
    "# Function to find out which of the unvisited node \n",
    "# needs to be visited next\n",
    "def to_be_visited():\n",
    "  global visited_and_distance\n",
    "  v = -10\n",
    "  # Choosing the vertex with the minimum distance\n",
    "  for index in range(number_of_vertices):\n",
    "    if visited_and_distance[index][0] == 0 \\\n",
    "      and (v < 0 or visited_and_distance[index][1] <= \\\n",
    "      visited_and_distance[v][1]):\n",
    "        v = index\n",
    "  return v\n",
    "\n",
    "# Creating the graph as an adjacency matrix\n",
    "vertices = [[0, 1, 1, 0],\n",
    "            [0, 0, 1, 0],\n",
    "            [0, 0, 0, 1],\n",
    "            [0, 0, 0, 0]]\n",
    "edges =  [[0, 3, 4, 0],\n",
    "          [0, 0, 0.5, 0],\n",
    "          [0, 0, 0, 1],\n",
    "          [0, 0, 0, 0]]\n",
    "\n",
    "number_of_vertices = len(vertices[0])\n",
    "# The first element of the lists inside visited_and_distance \n",
    "# denotes if the vertex has been visited.\n",
    "# The second element of the lists inside the visited_and_distance \n",
    "# denotes the distance from the source.\n",
    "visited_and_distance = [[0, 0]]\n",
    "for i in range(number_of_vertices-1):\n",
    "  visited_and_distance.append([0, sys.maxsize])\n",
    "for vertex in range(number_of_vertices):\n",
    "  # Finding the next vertex to be visited.\n",
    "  to_visit = to_be_visited()\n",
    "  for neighbor_index in range(number_of_vertices):\n",
    "    # Calculating the new distance for all unvisited neighbours\n",
    "    # of the chosen vertex.\n",
    "    if vertices[to_visit][neighbor_index] == 1 and \\\n",
    "     visited_and_distance[neighbor_index][0] == 0:\n",
    "      new_distance = visited_and_distance[to_visit][1] \\\n",
    "      + edges[to_visit][neighbor_index]\n",
    "      # Updating the distance of the neighbor if its current distance\n",
    "      # is greater than the distance that has just been calculated\n",
    "      if visited_and_distance[neighbor_index][1] > new_distance:\n",
    "        visited_and_distance[neighbor_index][1] = new_distance\n",
    "  # Visiting the vertex found earlier\n",
    "  visited_and_distance[to_visit][0] = 1\n",
    "i = 0 \n",
    "# Printing out the shortest distance from the source to each vertex       \n",
    "for distance in visited_and_distance:\n",
    "  print(\"The shortest distance of \",chr(ord('a') + i),\\\n",
    "  \" from the source vertex a is:\",distance[1])\n",
    "  i = i + 1"
   ]
  },
  {
   "cell_type": "code",
   "execution_count": null,
   "metadata": {},
   "outputs": [],
   "source": []
  }
 ],
 "metadata": {
  "interpreter": {
   "hash": "fbfc7f50675f1f7775e3693f35cf7d04e20d45d0496b8012dd14cb9f367bd69e"
  },
  "kernelspec": {
   "display_name": "Python 3.8.8 64-bit ('base': conda)",
   "language": "python",
   "name": "python3"
  },
  "language_info": {
   "codemirror_mode": {
    "name": "ipython",
    "version": 3
   },
   "file_extension": ".py",
   "mimetype": "text/x-python",
   "name": "python",
   "nbconvert_exporter": "python",
   "pygments_lexer": "ipython3",
   "version": "3.8.8"
  },
  "orig_nbformat": 4
 },
 "nbformat": 4,
 "nbformat_minor": 2
}
