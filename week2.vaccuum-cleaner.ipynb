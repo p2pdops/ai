{
 "cells": [
  {
   "cell_type": "markdown",
   "metadata": {},
   "source": [
    "**week-2**\n",
    "\n",
    "Design of Intelligent systems.\n",
    "(Suggested exercise: to control the VACUUM Cleaner moves)"
   ]
  },
  {
   "cell_type": "code",
   "execution_count": 1,
   "metadata": {},
   "outputs": [
    {
     "name": "stdout",
     "output_type": "stream",
     "text": [
      "Initial Status Condition {'A': '0', 'B': '0'}\n",
      "Vaccum is placed in location B\n",
      "Location B is Dirty\n",
      "Cost for cleaning B is 1\n",
      "Location B is cleaned\n",
      "Location A is Dirty\n",
      "Moving Left to Location A\n",
      "Location A is Clean\n",
      "Cost for Cleaning A is 3\n",
      "Performance Measurement is 3\n"
     ]
    }
   ],
   "source": [
    "# Design of Intelligent systems. (Suggested exercise: to control the VACUUM Cleaner moves)\n",
    "# Enter the current location of the Vacuum Cleaner that is either A or B in Capital Letter\n",
    "# Enter the current status of the location which is either clean or dirty. \n",
    "# Enter 0 for clean and 1 dirty\n",
    "# Enter the status of the other room also which can be either clean or dirty\n",
    "# Clean : 0\n",
    "# Dirty : 1\n",
    "goalstate={'A':'0','B':'0'}\n",
    "cost=0\n",
    "\n",
    "location=input('Enter the current location of the vacuum cleaner ')\n",
    "\n",
    "status=input('Enter the current status of the location '+location )\n",
    "\n",
    "statusother=input('Enter the status of other room ')\n",
    "\n",
    "print('Initial Status Condition '+ str(goalstate))\n",
    "\n",
    "if location=='A':\n",
    "  if status=='1':\n",
    "    print('Location A is Dirty')\n",
    "    goalstate['A']='0'    # Performing a suck operation\n",
    "    cost=cost+1\n",
    "    print('Cost for cleaning A is '+ str(cost))\n",
    "    print('Location A is cleaned')\n",
    "    if statusother=='1':\n",
    "      print('Location B is Dirty')\n",
    "      print('Moving Right to Location B')\n",
    "      cost=cost+1\n",
    "      goalstate['B']='0'\n",
    "      cost=cost+1\n",
    "      print('Cost for cleaning B is '+str(cost))\n",
    "      print('Location B is Cleaned')\n",
    "    else:\n",
    "      print('Location B is already cleaned')\n",
    "      print('No Action required and Cost for Cleaning is '+ str(cost))\n",
    "\n",
    "  if status=='0':\n",
    "    print('Location A is already Cleaned')\n",
    "    if statusother=='1':\n",
    "      print('Location B is Dirty')\n",
    "      print('Moving Right to Location B')\n",
    "      cost=cost+1\n",
    "      goalstate['B']='0'\n",
    "      cost=cost+1\n",
    "      print('Cost for cleaning B is '+str(cost))\n",
    "      print('Location B is Cleaned')\n",
    "    else:\n",
    "      print('Location B is already cleaned')\n",
    "      print('No Action required and Cost for Cleaning is '+ str(cost))\n",
    "else:\n",
    "  print('Vaccum is placed in location B')\n",
    "  if status=='1':\n",
    "    print('Location B is Dirty')\n",
    "    goalstate['B']='0'\n",
    "    cost+=1\n",
    "    print('Cost for cleaning B is '+ str(cost))\n",
    "    print('Location B is cleaned')\n",
    "  \n",
    "    if statusother=='1':\n",
    "      print('Location A is Dirty')\n",
    "      print('Moving Left to Location A')\n",
    "      cost+=1\n",
    "      goalstate['A']='0'\n",
    "      cost+=1\n",
    "      print('Location A is Clean')\n",
    "      print('Cost for Cleaning A is '+ str(cost))\n",
    "    else:\n",
    "      print('Location A is already Cleaned')\n",
    "      print('Cost for Cleaning is '+ str(cost))\n",
    "    \n",
    "  else:\n",
    "    print('Location B is already Cleaned')\n",
    "    print('Cost for Cleaning is '+ str(cost))\n",
    "    if statusother=='1':\n",
    "      print('Location A is Dirty')\n",
    "      print('Moving Left to Location A')\n",
    "      cost+=1\n",
    "      goalstate['A']='0'\n",
    "      cost+=1\n",
    "      print('Location A is Cleaned')\n",
    "      print('Cost for Cleaning Location A is '+ str(cost))\n",
    "    else:\n",
    "      print('Location A is already Cleaned')\n",
    "      print('No Action required and Cost for Cleaning is '+ str(cost))\n",
    "\n",
    "print('Performance Measurement is '+ str(cost))"
   ]
  },
  {
   "cell_type": "code",
   "execution_count": null,
   "metadata": {},
   "outputs": [],
   "source": []
  }
 ],
 "metadata": {
  "interpreter": {
   "hash": "fbfc7f50675f1f7775e3693f35cf7d04e20d45d0496b8012dd14cb9f367bd69e"
  },
  "kernelspec": {
   "display_name": "Python 3.8.8 64-bit ('base': conda)",
   "language": "python",
   "name": "python3"
  },
  "language_info": {
   "codemirror_mode": {
    "name": "ipython",
    "version": 3
   },
   "file_extension": ".py",
   "mimetype": "text/x-python",
   "name": "python",
   "nbconvert_exporter": "python",
   "pygments_lexer": "ipython3",
   "version": "3.8.8"
  },
  "orig_nbformat": 4
 },
 "nbformat": 4,
 "nbformat_minor": 2
}
