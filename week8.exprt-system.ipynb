{
 "cells": [
  {
   "cell_type": "code",
   "execution_count": 5,
   "metadata": {},
   "outputs": [],
   "source": [
    "import re"
   ]
  },
  {
   "cell_type": "code",
   "execution_count": 6,
   "metadata": {},
   "outputs": [],
   "source": [
    "# Knowledge base\n",
    "# facts related to blood glucose level\n",
    "# glycemia - Blood glucose level\n",
    "glycemia_facts = [  \"glycemia(0, 70) => status(low)\",\n",
    "                    \"glycemia(90, 110) => status(normal)\", \n",
    "                    \"glycemia(125, 200) => status(high)\",]\n",
    "\n",
    "# facts related to diabetes\n",
    "diabetes_facts = [\"symptom_count(0, 4) and status(high) => diabetes(Moderate, Likely to get affected)\",\n",
    "                  \"symptom_count(0, 4) and status(low) => diabetes(Moderate, Likely to get afftected)\",\n",
    "                  \"symptom_count(0, 12) and status(normal) => diabetes(Low, May have other health issues)\",\n",
    "                  \"symptom_count(4, 12) and status(high) => diabetes(High, Affected - HyperGlycemia)\",\n",
    "                  \"symptom_count(4, 12) and status(low) => diabetes(High, Affected - HypoGlycemia)\",\n",
    "                  \"symptom_count(0, 4) and status(likely) => diabetes(Low)\",\n",
    "                  \"symptom_count(4, 12) and status(likely) => diabetes(Moderate, May affect)\"]"
   ]
  },
  {
   "cell_type": "code",
   "execution_count": null,
   "metadata": {},
   "outputs": [],
   "source": [
    "# (?<=status\\()\\w+\n",
    "# (?<=diabetes\\()[a-zA-z, -]*"
   ]
  },
  {
   "cell_type": "code",
   "execution_count": 31,
   "metadata": {},
   "outputs": [],
   "source": [
    "def diabetes(age, glycemia, count):\n",
    "  status = \"likely\"\n",
    "\n",
    "  if age < 0 or age > 5:\n",
    "    print(\"Inappropriate age. This ES is related to Infant's diabetic condtions.\")\n",
    "    return\n",
    "  \n",
    "  for gly_fact in glycemia_facts:\n",
    "    min_g, max_g  = map(int, re.findall(r'\\d+', gly_fact))\n",
    "    if min_g <= glycemia and glycemia <= max_g:\n",
    "      status, *_ = re.findall(r'(?<=status\\()\\w+', gly_fact)\n",
    "      print(\"Infant's glycemia:\", status)\n",
    "      break\n",
    "\n",
    "  for dia_fact in diabetes_facts:\n",
    "    min_c, max_c  = map(int, re.findall(r'\\d+', dia_fact))\n",
    "    curr_status, *_ = re.findall(r'(?<=status\\()\\w+', dia_fact)\n",
    "    d_status, *_ = re.findall(r'(?<=diabetes\\()[A-z, -]*', dia_fact)\n",
    "    if min_c <= count and count <= max_c and status == curr_status:\n",
    "      print(\"Diabetes status:\", d_status)\n",
    "      break"
   ]
  },
  {
   "cell_type": "code",
   "execution_count": 32,
   "metadata": {},
   "outputs": [
    {
     "name": "stdout",
     "output_type": "stream",
     "text": [
      "Symptoms:\n",
      "1. Shakiness 2. Hunger 3. Sweating 4. Headache 5. Diabetic_parent 6. Pale 7. Urination 8. Thirst 9. Blurred_vision 10. Dry_mouth 11. Smelling_breath 12. Shortness_of_breath\n",
      "Infant's glycemia: normal\n",
      "Diabetes status: Low, May have other health issues\n"
     ]
    }
   ],
   "source": [
    "age = int(input(\"Enter infant's age: \"))\n",
    "glycemia_level = int(input(\"Enter glycemia level (Blood sugar level): \"))\n",
    "print(\"Symptoms:\\n1. Shakiness 2. Hunger 3. Sweating 4. Headache 5. Diabetic_parent 6. Pale 7. Urination 8. Thirst 9. Blurred_vision 10. Dry_mouth 11. Smelling_breath 12. Shortness_of_breath\")\n",
    "symptoms_c = int( input(\"Enter no. of symptoms: \"))\n",
    "diabetes(age, glycemia_level, symptoms_c)"
   ]
  },
  {
   "cell_type": "code",
   "execution_count": null,
   "metadata": {},
   "outputs": [],
   "source": []
  },
  {
   "cell_type": "code",
   "execution_count": 30,
   "metadata": {},
   "outputs": [
    {
     "name": "stdout",
     "output_type": "stream",
     "text": [
      "normal normal 0 70\n"
     ]
    }
   ],
   "source": [
    "# ignore this cell -- regex tests\n",
    "fact =  \"symptom_count(0, 12) and status(normal) => diabetes(Low, May have other health issues)\"\n",
    "status, *_ = re.findall(r'(?<=status\\()\\w+', fact)\n",
    "curr_status, *_ = re.findall(r'(?<=status\\()\\w+', fact)\n",
    "min_c, max_c = re.findall(r'\\d+', \"glycemia(0, 70) => status(low)\")\n",
    "print(status, curr_status, min_c, max_c)"
   ]
  }
 ],
 "metadata": {
  "interpreter": {
   "hash": "63fd5069d213b44bf678585dea6b12cceca9941eaf7f819626cde1f2670de90d"
  },
  "kernelspec": {
   "display_name": "Python 3.9.6 64-bit",
   "language": "python",
   "name": "python3"
  },
  "language_info": {
   "codemirror_mode": {
    "name": "ipython",
    "version": 3
   },
   "file_extension": ".py",
   "mimetype": "text/x-python",
   "name": "python",
   "nbconvert_exporter": "python",
   "pygments_lexer": "ipython3",
   "version": "3.9.6"
  },
  "orig_nbformat": 4
 },
 "nbformat": 4,
 "nbformat_minor": 2
}
