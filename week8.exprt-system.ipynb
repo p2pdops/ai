{
 "cells": [
  {
   "cell_type": "code",
   "execution_count": 2,
   "metadata": {},
   "outputs": [],
   "source": [
    "import re"
   ]
  },
  {
   "cell_type": "code",
   "execution_count": 3,
   "metadata": {},
   "outputs": [],
   "source": [
    "# Knowledge base\n",
    "\n",
    "# facts related to blood glucose level\n",
    "# glycemia - Blood glucose level\n",
    "glycemia_facts = [  \"glycemia(0, 70) => status(low)\",\n",
    "                    \"glycemia(90, 110) => status(normal)\", \n",
    "                    \"glycemia(125, 200) => status(high)\", \n",
    "                ]\n",
    "\n",
    "# facts related to diabetes\n",
    "diabetes_facts = [\"symptom_count(0, 4) and status(high) => diabetes(Moderate, Likely to get affected)\",\n",
    "                  \"symptom_count(0, 4) and status(low) => diabetes(Moderate, Likely to get afftected)\",\n",
    "                  \"symptom_count(0, 12) and status(normal) => diabetes(Low, May have other health issues)\",\n",
    "                  \"symptom_count(4, 12) and status(high) => diabetes(High, Affected - HyperGlycemia)\",\n",
    "                  \"symptom_count(4, 12) and status(low) => diabetes(High, Affected - HypoGlycemia)\",\n",
    "                  \"symptom_count(0, 4) and status(likely) => diabetes(Low)\",\n",
    "                  \"symptom_count(4, 12) and status(likely) => diabetes(Moderate, May affect)\"]"
   ]
  },
  {
   "cell_type": "code",
   "execution_count": 4,
   "metadata": {},
   "outputs": [],
   "source": [
    "def diabetes(age, glycemia, symptoms):\n",
    "  status = \"likely\"\n",
    "\n",
    "  if age < 0 or age > 5:\n",
    "    print(\"Inappropriate age. This ES is related to Infant's diabetic condtions.\")\n",
    "    return\n",
    "  \n",
    "  # for the given glycemia, based on the glycemia facts getting that respective status\n",
    "  for fact in glycemia_facts:\n",
    "    # getting the glycemia level\n",
    "    array = list(map(int, re.findall(r'[0-9]+', fact)))\n",
    "    if glycemia >= array[0] and glycemia <= array[1]:\n",
    "      status = re.findall(r'status\\([A-Za-z]*', fact)[0][7:]\n",
    "      print(\"Infant's glycemia:\", status)\n",
    "      break\n",
    "  count = symptoms.count(\"T\")\n",
    "\n",
    "  # based on the symptom count and status of the infant deciding the diabetes status\n",
    "  for fact in diabetes_facts:\n",
    "    # getting count level\n",
    "    array = list(map(int, re.findall(r'[0-9]+', fact)))\n",
    "    # actual status mentioned in that particular fact\n",
    "    curr_status = re.findall(r'status\\([a-zA-Z]*', fact)[0][7:] \n",
    "    # respective diabetes status\n",
    "    d_status = re.findall(r'diabetes\\([a-zA-Z, -]*', fact)[0][9:]\n",
    "    if count >= array[0] and count <= array[1] and status == curr_status:\n",
    "      print(\"Diabetes status:\", d_status)\n",
    "      break"
   ]
  },
  {
   "cell_type": "code",
   "execution_count": 5,
   "metadata": {},
   "outputs": [
    {
     "name": "stdout",
     "output_type": "stream",
     "text": [
      "Symptoms:\n",
      "1. Shakiness 2. Hunger 3. Sweating 4. Headache 5. Diabetic_parent 6. Pale 7. Urination 8. Thirst 9. Blurred_vision 10. Dry_mouth 11. Smelling_breath 12. Shortness_of_breath\n",
      "Infant's glycemia: low\n",
      "Diabetes status: High, Affected - HypoGlycemia\n"
     ]
    }
   ],
   "source": [
    "age = int(input(\"Enter infant's age: \"))\n",
    "glycemia_level = int(input(\"Enter glycemia level(Blood sugar level): \"))\n",
    "print(\"Symptoms:\\n1. Shakiness 2. Hunger 3. Sweating 4. Headache 5. Diabetic_parent 6. Pale 7. Urination 8. Thirst 9. Blurred_vision 10. Dry_mouth 11. Smelling_breath 12. Shortness_of_breath\")\n",
    "symptoms = list(map(str, input(\"Enter status of each symptom True/False: \").split(\" \")))[:12]\n",
    "diabetes(age, glycemia_level, symptoms)"
   ]
  },
  {
   "cell_type": "code",
   "execution_count": null,
   "metadata": {},
   "outputs": [],
   "source": []
  }
 ],
 "metadata": {
  "interpreter": {
   "hash": "63fd5069d213b44bf678585dea6b12cceca9941eaf7f819626cde1f2670de90d"
  },
  "kernelspec": {
   "display_name": "Python 3.9.6 64-bit",
   "language": "python",
   "name": "python3"
  },
  "language_info": {
   "codemirror_mode": {
    "name": "ipython",
    "version": 3
   },
   "file_extension": ".py",
   "mimetype": "text/x-python",
   "name": "python",
   "nbconvert_exporter": "python",
   "pygments_lexer": "ipython3",
   "version": "3.9.6"
  },
  "orig_nbformat": 4
 },
 "nbformat": 4,
 "nbformat_minor": 2
}
