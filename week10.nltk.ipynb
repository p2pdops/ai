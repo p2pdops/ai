{
 "cells": [
  {
   "cell_type": "markdown",
   "metadata": {},
   "source": [
    "# Week-10:\n",
    "\n",
    "## Aim: Using nltk library:\n"
   ]
  },
  {
   "cell_type": "code",
   "execution_count": 5,
   "metadata": {},
   "outputs": [
    {
     "name": "stdout",
     "output_type": "stream",
     "text": [
      "Punctuations are  !\"#$%&'()*+,-./:;<=>?@[\\]^_`{|}~\n",
      "before removing puncuation the string is :\n",
      " hello , welcome to the ai lab ? \n",
      "after removing puncuation the string is :\n",
      "hello   welcome to the ai lab\n"
     ]
    }
   ],
   "source": [
    "import string\n",
    "print('Punctuations are ', string.punctuation)\n",
    "\n",
    "regular_punct = list(string.punctuation)\n",
    "\n",
    "def remove_punctuation(text, punct_list):\n",
    "    for punc in punct_list:\n",
    "        if punc in text:\n",
    "            text = text.replace(punc, ' ')\n",
    "    return text.strip()\n",
    "\n",
    "s=\" hello , welcome to the ai lab ? \"\n",
    "print(\"before removing puncuation the string is :\")\n",
    "print(s)\n",
    "print(\"after removing puncuation the string is :\")\n",
    "print(remove_punctuation(s,regular_punct))"
   ]
  },
  {
   "cell_type": "markdown",
   "metadata": {},
   "source": [
    "### Installing nltk library & downloading required packages"
   ]
  },
  {
   "cell_type": "code",
   "execution_count": 15,
   "metadata": {},
   "outputs": [
    {
     "name": "stdout",
     "output_type": "stream",
     "text": [
      "Requirement already satisfied: nltk in c:\\python39\\lib\\site-packages (3.6.7)\n",
      "Requirement already satisfied: joblib in c:\\python39\\lib\\site-packages (from nltk) (1.1.0)\n",
      "Requirement already satisfied: click in c:\\python39\\lib\\site-packages (from nltk) (8.0.3)Note: you may need to restart the kernel to use updated packages.\n",
      "\n",
      "Requirement already satisfied: tqdm in c:\\python39\\lib\\site-packages (from nltk) (4.62.3)\n",
      "Requirement already satisfied: regex>=2021.8.3 in c:\\python39\\lib\\site-packages (from nltk) (2021.11.10)\n",
      "Requirement already satisfied: colorama in c:\\users\\p2pdops\\appdata\\roaming\\python\\python39\\site-packages (from click->nltk) (0.4.4)\n"
     ]
    },
    {
     "name": "stderr",
     "output_type": "stream",
     "text": [
      "WARNING: Ignoring invalid distribution -ip (c:\\python39\\lib\\site-packages)\n",
      "WARNING: Ignoring invalid distribution -ip (c:\\python39\\lib\\site-packages)\n",
      "WARNING: Ignoring invalid distribution -ip (c:\\python39\\lib\\site-packages)\n",
      "WARNING: Ignoring invalid distribution -ip (c:\\python39\\lib\\site-packages)\n",
      "[nltk_data] Downloading package punkt to\n",
      "[nltk_data]     C:\\Users\\p2pdops\\AppData\\Roaming\\nltk_data...\n",
      "[nltk_data]   Package punkt is already up-to-date!\n",
      "[nltk_data] Downloading package stopwords to\n",
      "[nltk_data]     C:\\Users\\p2pdops\\AppData\\Roaming\\nltk_data...\n",
      "[nltk_data]   Package stopwords is already up-to-date!\n",
      "[nltk_data] Downloading package averaged_perceptron_tagger to\n",
      "[nltk_data]     C:\\Users\\p2pdops\\AppData\\Roaming\\nltk_data...\n",
      "WARNING: Ignoring invalid distribution -ip (c:\\python39\\lib\\site-packages)\n",
      "[nltk_data]   Package averaged_perceptron_tagger is already up-to-\n",
      "[nltk_data]       date!\n"
     ]
    },
    {
     "data": {
      "text/plain": [
       "True"
      ]
     },
     "execution_count": 15,
     "metadata": {},
     "output_type": "execute_result"
    }
   ],
   "source": [
    "%pip install nltk\n",
    "import nltk\n",
    "\n",
    "nltk.download('punkt')\n",
    "nltk.download('stopwords')\n",
    "nltk.download('averaged_perceptron_tagger')"
   ]
  },
  {
   "cell_type": "markdown",
   "metadata": {},
   "source": [
    "### a) Extract all the words with and without punctuations from a given input sentence\n"
   ]
  },
  {
   "cell_type": "code",
   "execution_count": 16,
   "metadata": {},
   "outputs": [
    {
     "name": "stdout",
     "output_type": "stream",
     "text": [
      "Punctuations are  !\"#$%&'()*+,-./:;<=>?@[\\]^_`{|}~\n",
      "before removing puncuation the string is :\n",
      " hello , welcome to the ai lab ? \n",
      "after removing puncuation the string is :\n",
      "hello   welcome to the ai lab\n"
     ]
    }
   ],
   "source": [
    "import string\n",
    "print('Punctuations are ', string.punctuation)\n",
    "\n",
    "regular_punct = list(string.punctuation)\n",
    "\n",
    "def remove_punctuation(text, punct_list):\n",
    "    for punc in punct_list:\n",
    "        if punc in text:\n",
    "            text = text.replace(punc, ' ')\n",
    "    return text.strip()\n",
    "\n",
    "s=\" hello , welcome to the ai lab ? \"\n",
    "print(\"before removing puncuation the string is :\")\n",
    "print(s)\n",
    "print(\"after removing puncuation the string is :\")\n",
    "print(remove_punctuation(s,regular_punct))"
   ]
  },
  {
   "cell_type": "markdown",
   "metadata": {},
   "source": [
    "### b) print parts of speech of words in sentence.\n"
   ]
  },
  {
   "cell_type": "code",
   "execution_count": 13,
   "metadata": {},
   "outputs": [
    {
     "name": "stdout",
     "output_type": "stream",
     "text": [
      "\n",
      " Word tokens are :  ['hello', ',', 'welcome', 'to', 'the', 'ai', 'lab', '?']\n",
      "\n",
      " Each word with tags : \n",
      "[('hello', 'NN'), (',', ','), ('welcome', 'NN'), ('to', 'TO'), ('the', 'DT'), ('ai', 'NN'), ('lab', 'NN'), ('?', '.')]\n"
     ]
    }
   ],
   "source": [
    "import nltk\n",
    "from nltk.tokenize import word_tokenize\n",
    "from nltk.tag import pos_tag\n",
    "\n",
    "text = \"hello , welcome to the ai lab ?\"\n",
    "word_tokens = word_tokenize(text)\n",
    "\n",
    "print('\\n Word tokens are : ', word_tokens)\n",
    "\n",
    "postag = pos_tag(word_tokens)\n",
    "print('\\n Each word with tags : ')\n",
    "print(postag)\n"
   ]
  },
  {
   "cell_type": "markdown",
   "metadata": {},
   "source": [
    "### c) Remove stop words in sentence.\n"
   ]
  },
  {
   "cell_type": "code",
   "execution_count": 14,
   "metadata": {},
   "outputs": [
    {
     "name": "stdout",
     "output_type": "stream",
     "text": [
      "Stop words in english are :  {'not', \"wasn't\", 'had', 'is', 'my', 'them', 'until', 'off', 'who', 'if', 'when', \"weren't\", 'her', 'own', 'here', 'how', \"isn't\", 'and', 'further', \"aren't\", 'up', 'yourselves', 'him', 'few', 'did', \"shouldn't\", 'same', \"doesn't\", 're', 'each', 'some', 'on', 's', 'yourself', 'all', 'at', 'that', \"don't\", 'didn', 'after', 'myself', 'doesn', 'ma', 'why', \"you've\", 'its', 'both', 'd', 'under', 'into', 'by', 'hasn', 'itself', \"should've\", 'y', 'himself', 'before', 'with', 'needn', 't', 'from', 'shouldn', \"mightn't\", 'can', 'have', 'we', 'no', 'about', 'll', 'wouldn', 'because', 'what', 'there', 'it', \"won't\", 'such', 've', \"shan't\", 'a', 'ours', 'do', 'down', \"you're\", 'was', 'this', 'themselves', 'over', 'be', 'his', 'aren', 'mightn', 'most', 'nor', 'doing', 'between', 'their', 'but', 'ourselves', 'don', \"she's\", 'again', 'where', 'for', 'during', 'below', 'just', 'through', 'against', 'haven', 'am', \"you'll\", 'in', 'he', \"didn't\", 'wasn', 'she', 'won', \"mustn't\", 'very', \"haven't\", 'above', 'so', \"wouldn't\", 'shan', \"couldn't\", 'ain', 'these', 'or', \"needn't\", 'mustn', 'while', 'me', 'once', 'hadn', 'does', 'the', \"hasn't\", 'out', 'then', 'will', 'any', 'has', 'to', 'our', \"that'll\", 'o', 'were', 'been', 'you', \"it's\", 'now', 'more', 'hers', 'isn', 'herself', 'i', 'other', 'weren', 'your', 'they', 'as', 'which', 'yours', \"hadn't\", 'those', 'only', 'whom', 'theirs', 'of', 'couldn', 'than', 'too', 'having', 'm', \"you'd\", 'being', 'should', 'are', 'an'}\n",
      "\n",
      "\n",
      "\n",
      "Given string with stopwords:\n",
      "['hello', ',', 'welcome', 'to', 'the', 'ai', 'lab', '?']\n",
      "Given string without stopwords:\n",
      "['hello', ',', 'welcome', 'ai', 'lab', '?']\n"
     ]
    }
   ],
   "source": [
    "from nltk.corpus import stopwords\n",
    "from nltk.tokenize import word_tokenize\n",
    "\n",
    "text = \"hello , welcome to the ai lab ?\"\n",
    "stop_words = set(stopwords.words('english'))\n",
    "word_tokens = word_tokenize(text)\n",
    "\n",
    "print('Stop words in english are : ', stop_words)\n",
    "\n",
    "filtered_sentence = [w for w in word_tokens if not w.lower() in stop_words]\n",
    "\n",
    "print('\\n\\n')\n",
    "\n",
    "print('Given string with stopwords:')\n",
    "print(word_tokens)\n",
    "\n",
    "print('Given string without stopwords:')\n",
    "print(filtered_sentence)\n",
    "\n"
   ]
  },
  {
   "cell_type": "code",
   "execution_count": null,
   "metadata": {},
   "outputs": [],
   "source": []
  }
 ],
 "metadata": {
  "interpreter": {
   "hash": "63fd5069d213b44bf678585dea6b12cceca9941eaf7f819626cde1f2670de90d"
  },
  "kernelspec": {
   "display_name": "Python 3.9.6 64-bit",
   "language": "python",
   "name": "python3"
  },
  "language_info": {
   "codemirror_mode": {
    "name": "ipython",
    "version": 3
   },
   "file_extension": ".py",
   "mimetype": "text/x-python",
   "name": "python",
   "nbconvert_exporter": "python",
   "pygments_lexer": "ipython3",
   "version": "3.9.6"
  },
  "orig_nbformat": 4
 },
 "nbformat": 4,
 "nbformat_minor": 2
}
