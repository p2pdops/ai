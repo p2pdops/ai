{
 "cells": [
  {
   "cell_type": "markdown",
   "metadata": {},
   "source": [
    "# Week-10:\n",
    "\n",
    "## Aim: Using nltk library:\n"
   ]
  },
  {
   "cell_type": "markdown",
   "metadata": {},
   "source": [
    "### Installing nltk library & downloading required packages"
   ]
  },
  {
   "cell_type": "code",
   "execution_count": 1,
   "metadata": {},
   "outputs": [
    {
     "name": "stdout",
     "output_type": "stream",
     "text": [
      "Requirement already satisfied: nltk in c:\\users\\p2pdops\\anaconda3\\lib\\site-packages (3.6.1)\n",
      "Requirement already satisfied: click in c:\\users\\p2pdops\\anaconda3\\lib\\site-packages (from nltk) (8.0.3)\n",
      "Requirement already satisfied: joblib in c:\\users\\p2pdops\\anaconda3\\lib\\site-packages (from nltk) (1.0.1)\n",
      "Requirement already satisfied: tqdm in c:\\users\\p2pdops\\anaconda3\\lib\\site-packages (from nltk) (4.59.0)\n",
      "Requirement already satisfied: regex in c:\\users\\p2pdops\\anaconda3\\lib\\site-packages (from nltk) (2021.4.4)\n",
      "Requirement already satisfied: colorama in c:\\users\\p2pdops\\anaconda3\\lib\\site-packages (from click->nltk) (0.4.4)\n",
      "Note: you may need to restart the kernel to use updated packages.\n"
     ]
    },
    {
     "name": "stderr",
     "output_type": "stream",
     "text": [
      "[nltk_data] Downloading package punkt to\n",
      "[nltk_data]     C:\\Users\\p2pdops\\AppData\\Roaming\\nltk_data...\n",
      "[nltk_data]   Package punkt is already up-to-date!\n",
      "[nltk_data] Downloading package stopwords to\n",
      "[nltk_data]     C:\\Users\\p2pdops\\AppData\\Roaming\\nltk_data...\n",
      "[nltk_data]   Package stopwords is already up-to-date!\n",
      "[nltk_data] Downloading package averaged_perceptron_tagger to\n",
      "[nltk_data]     C:\\Users\\p2pdops\\AppData\\Roaming\\nltk_data...\n",
      "[nltk_data]   Package averaged_perceptron_tagger is already up-to-\n",
      "[nltk_data]       date!\n"
     ]
    },
    {
     "data": {
      "text/plain": [
       "True"
      ]
     },
     "execution_count": 1,
     "metadata": {},
     "output_type": "execute_result"
    }
   ],
   "source": [
    "%pip install nltk\n",
    "import nltk\n",
    "\n",
    "nltk.download('punkt')\n",
    "nltk.download('stopwords')\n",
    "nltk.download('averaged_perceptron_tagger')"
   ]
  },
  {
   "cell_type": "markdown",
   "metadata": {},
   "source": [
    "### a) Extract all the words with and without punctuations from a given input sentence\n"
   ]
  },
  {
   "cell_type": "code",
   "execution_count": 2,
   "metadata": {},
   "outputs": [
    {
     "name": "stdout",
     "output_type": "stream",
     "text": [
      "Punctuations are  !\"#$%&'()*+,-./:;<=>?@[\\]^_`{|}~\n",
      "before removing puncuation the string is :\n",
      " hello , welcome to the ai lab ? \n",
      "after removing puncuation the string is :\n",
      "hello welcome to the ai lab\n"
     ]
    }
   ],
   "source": [
    "import string\n",
    "print('Punctuations are ', string.punctuation)\n",
    "\n",
    "s=\" hello , welcome to the ai lab ? \"\n",
    "\n",
    "words = nltk.word_tokenize(s)\n",
    "words_no_punct = [word for word in words if word not in string.punctuation]\n",
    "\n",
    "print(\"before removing puncuation the string is :\")\n",
    "print(s)\n",
    "print(\"after removing puncuation the string is :\")\n",
    "print(' '.join(words_no_punct))"
   ]
  },
  {
   "cell_type": "markdown",
   "metadata": {},
   "source": [
    "### b) print parts of speech of words in sentence.\n"
   ]
  },
  {
   "cell_type": "code",
   "execution_count": 3,
   "metadata": {},
   "outputs": [
    {
     "name": "stdout",
     "output_type": "stream",
     "text": [
      "\n",
      " Word tokens are :  ['hello', ',', 'welcome', 'to', 'the', 'ai', 'lab', '?']\n",
      "\n",
      " Each word with tags : \n",
      "[('hello', 'NN'), (',', ','), ('welcome', 'NN'), ('to', 'TO'), ('the', 'DT'), ('ai', 'NN'), ('lab', 'NN'), ('?', '.')]\n"
     ]
    }
   ],
   "source": [
    "import nltk\n",
    "from nltk.tokenize import word_tokenize\n",
    "from nltk.tag import pos_tag\n",
    "\n",
    "text = \"hello , welcome to the ai lab ?\"\n",
    "word_tokens = word_tokenize(text)\n",
    "\n",
    "print('\\n Word tokens are : ', word_tokens)\n",
    "\n",
    "postag = pos_tag(word_tokens)\n",
    "print('\\n Each word with tags : ')\n",
    "print(postag)\n"
   ]
  },
  {
   "cell_type": "markdown",
   "metadata": {},
   "source": [
    "### c) Remove stop words in sentence.\n"
   ]
  },
  {
   "cell_type": "code",
   "execution_count": 4,
   "metadata": {},
   "outputs": [
    {
     "name": "stdout",
     "output_type": "stream",
     "text": [
      "Stop words in english are :  {'yours', \"mustn't\", 'further', 'too', 'we', 'myself', \"wasn't\", 'few', 'don', 'ma', 'are', \"don't\", 'nor', 'what', 'while', 'each', 'having', 'if', 'has', 'off', 've', \"didn't\", 'itself', \"she's\", 'its', 'why', 'so', 'once', \"you're\", 'o', 'himself', \"wouldn't\", 'after', 'those', 'can', 'over', 'from', 'because', 'own', 'my', \"needn't\", 'needn', \"isn't\", 'wasn', 'until', 'a', 'him', 'do', 'where', \"should've\", \"hasn't\", 'does', 'weren', 'm', 'then', 'mightn', \"aren't\", 'most', 'all', 'not', 'ours', 'and', 'below', 'had', 'me', 'i', 'or', 'herself', 'she', 'when', 'whom', 'shouldn', 'down', 'hasn', 'wouldn', 'both', 'for', 'their', \"shan't\", 'yourself', 'here', 'be', 'no', 'were', \"shouldn't\", 'there', 'same', 'd', \"haven't\", \"won't\", \"hadn't\", \"that'll\", 'our', 's', \"weren't\", 'them', 'the', 'how', 't', \"couldn't\", 'ourselves', 'at', 're', 'haven', 'just', 'who', 'shan', 'will', 'in', 'couldn', 'on', 'is', 'have', 'more', 'than', 'some', 'which', 'theirs', 'didn', 'her', 'mustn', 'between', 'am', 'during', 'his', 'yourselves', \"you've\", 'it', 'of', 'about', 'being', 'such', 'these', 'ain', 'hers', 'been', \"doesn't\", 'you', 'an', \"you'll\", 'above', 'to', 'any', 'll', 'they', 'as', 'other', 'aren', 'again', 'now', \"you'd\", 'should', 'with', 'before', \"it's\", 'under', \"mightn't\", 'your', 'only', 'doesn', 'very', 'by', 'y', 'themselves', 'against', 'hadn', 'he', 'did', 'but', 'out', 'won', 'was', 'isn', 'into', 'through', 'doing', 'up', 'that', 'this'}\n",
      "\n",
      "\n",
      "\n",
      "Given string with stopwords:\n",
      "['hello', ',', 'welcome', 'to', 'the', 'ai', 'lab', '?']\n",
      "Given string without stopwords:\n",
      "['hello', ',', 'welcome', 'ai', 'lab', '?']\n"
     ]
    }
   ],
   "source": [
    "from nltk.tokenize import word_tokenize\n",
    "from nltk.corpus import stopwords\n",
    "\n",
    "text = \"hello , welcome to the ai lab ?\"\n",
    "stop_words = set(stopwords.words('english'))\n",
    "word_tokens = word_tokenize(text)\n",
    "\n",
    "print('Stop words in english are : ', stop_words)\n",
    "\n",
    "filtered_sentence = [w for w in word_tokens if not w.lower() in stop_words]\n",
    "\n",
    "print('\\n\\n')\n",
    "\n",
    "print('Given string with stopwords:')\n",
    "print(word_tokens)\n",
    "\n",
    "print('Given string without stopwords:')\n",
    "print(filtered_sentence)\n",
    "\n"
   ]
  },
  {
   "cell_type": "code",
   "execution_count": null,
   "metadata": {},
   "outputs": [],
   "source": []
  }
 ],
 "metadata": {
  "interpreter": {
   "hash": "63fd5069d213b44bf678585dea6b12cceca9941eaf7f819626cde1f2670de90d"
  },
  "kernelspec": {
   "display_name": "Python 3.9.6 64-bit",
   "language": "python",
   "name": "python3"
  },
  "language_info": {
   "codemirror_mode": {
    "name": "ipython",
    "version": 3
   },
   "file_extension": ".py",
   "mimetype": "text/x-python",
   "name": "python",
   "nbconvert_exporter": "python",
   "pygments_lexer": "ipython3",
   "version": "3.9.6"
  },
  "orig_nbformat": 4
 },
 "nbformat": 4,
 "nbformat_minor": 2
}
