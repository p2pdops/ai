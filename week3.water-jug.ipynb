{
 "cells": [
  {
   "cell_type": "markdown",
   "metadata": {},
   "source": [
    "Week-3:\n",
    "\n",
    "Aim:\n",
    "\n",
    "Implement the production system and derive a solution for the real world AI problem. \n",
    "\n",
    "(Suggested exercise: Write a program to solve the following problem: You have two jugs, a 4-gallon and a 3- gallon. Neither of the jugs has markings on them. There is a pump that can be used to fill the jugs with water. How can you get exactly two gallons of water in the 4-gallon jug?)."
   ]
  },
  {
   "cell_type": "code",
   "execution_count": 7,
   "metadata": {},
   "outputs": [
    {
     "name": "stdout",
     "output_type": "stream",
     "text": [
      "JUG1\tJUG2\n",
      "0\t0\n",
      "0\t3\n",
      "3\t0\n",
      "3\t3\n",
      "4\t2\n",
      "2\t0\n"
     ]
    }
   ],
   "source": [
    "def pour(jug1, jug2):\n",
    "    max1, max2, fill = 3, 4, 2  #Change maximum capacity and final capacity\n",
    "    print(\"%d\\t%d\" % (jug2, jug1))\n",
    "    if jug2 == fill:\n",
    "        return\n",
    "    elif jug2 == max2:\n",
    "        pour(0, jug1)\n",
    "    elif jug1 != 0 and jug2 == 0:\n",
    "        pour(0, jug1)\n",
    "    elif jug1 == fill:\n",
    "        pour(jug1, 0)\n",
    "    elif jug1 < max1:\n",
    "        pour(max1, jug2)\n",
    "    elif jug1 < (max2-jug2):\n",
    "        pour(0, (jug1+jug2))\n",
    "    else:\n",
    "        pour(jug1-(max2-jug2), (max2-jug2)+jug2)\n",
    " \n",
    "print(\"JUG1\\tJUG2\")\n",
    "pour(0, 0)"
   ]
  },
  {
   "cell_type": "markdown",
   "metadata": {},
   "source": []
  }
 ],
 "metadata": {
  "interpreter": {
   "hash": "fbfc7f50675f1f7775e3693f35cf7d04e20d45d0496b8012dd14cb9f367bd69e"
  },
  "kernelspec": {
   "display_name": "Python 3.8.8 64-bit ('base': conda)",
   "language": "python",
   "name": "python3"
  },
  "language_info": {
   "codemirror_mode": {
    "name": "ipython",
    "version": 3
   },
   "file_extension": ".py",
   "mimetype": "text/x-python",
   "name": "python",
   "nbconvert_exporter": "python",
   "pygments_lexer": "ipython3",
   "version": "3.8.8"
  },
  "orig_nbformat": 4
 },
 "nbformat": 4,
 "nbformat_minor": 2
}
